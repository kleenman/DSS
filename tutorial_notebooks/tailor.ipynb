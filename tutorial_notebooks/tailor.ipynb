{
  "cells": [
    {
      "cell_type": "markdown",
      "metadata": {
        "cell_style": "center",
        "id": "mLlTNvWvLe6-"
      },
      "source": [
        "<div class='bar_title'></div>\n",
        "\n",
        "*Decision Support Systems*\n",
        "\n",
        "# Headline\n",
        "\n",
        "your name <br>"
      ]
    },
    {
      "cell_type": "code",
      "execution_count": 3,
      "metadata": {
        "id": "P3DFnlwSLe7A",
        "outputId": "de41db00-fb5c-4874-d474-374b5cfe1c67",
        "colab": {
          "base_uri": "https://localhost:8080/"
        }
      },
      "outputs": [
        {
          "output_type": "stream",
          "name": "stdout",
          "text": [
            "Requirement already satisfied: pulp in /usr/local/lib/python3.10/dist-packages (2.8.0)\n"
          ]
        }
      ],
      "source": [
        "!pip install pulp\n",
        "import pulp"
      ]
    },
    {
      "cell_type": "code",
      "execution_count": 4,
      "metadata": {
        "cell_style": "center",
        "id": "9zs-ztrXLe7E"
      },
      "outputs": [],
      "source": [
        "products = ['Coat', 'Pants']\n",
        "\n",
        "resources = {\n",
        "    'Wool': 150,\n",
        "    'Work': 200\n",
        "}\n",
        "\n",
        "profit = {\n",
        "    'Coat': 50,\n",
        "    'Pants': 40\n",
        "}\n",
        "\n",
        "consumption = {\n",
        "    'Coat': {'Wool': 3, 'Work': 10},\n",
        "    'Pants': {'Wool': 5, 'Work': 4}\n",
        "}"
      ]
    },
    {
      "cell_type": "code",
      "source": [
        "prob = pulp.LpProblem(name='Tailor', sense=pulp.LpMaximize)\n",
        "\n",
        "# Decision variables\n",
        "x = pulp.LpVariable.dicts(name='x', indices=products, lowBound=0, cat=pulp.LpContinuous)\n",
        "y = pulp.LpVariable(name='Lease_Machine', cat=pulp.LpBinary)\n",
        "\n",
        "# Objective function\n",
        "\n",
        "prob += pulp.lpSum([profit[i]*x[i] for i in products]) - 300*y\n",
        "\n",
        "# Constraints\n",
        "\n",
        "for r in resources:\n",
        "  prob += pulp.lpSum([consumption[i][r]*x[i] for i in products]) <= resources[r]\n",
        "\n",
        "\n",
        "prob += x['Coat']*(1/20) + x['Pants']*(1/30) <= y*99999999999 + 1\n",
        "\n",
        "\n",
        "print(prob)"
      ],
      "metadata": {
        "id": "kwv7cq4FNF4o",
        "outputId": "ba8008bc-fc78-4b52-b257-53a03e610419",
        "colab": {
          "base_uri": "https://localhost:8080/"
        }
      },
      "execution_count": 22,
      "outputs": [
        {
          "output_type": "stream",
          "name": "stdout",
          "text": [
            "Tailor:\n",
            "MAXIMIZE\n",
            "-300*Lease_Machine + 50*x_Coat + 40*x_Pants + 0\n",
            "SUBJECT TO\n",
            "_C1: 3 x_Coat + 5 x_Pants <= 150\n",
            "\n",
            "_C2: 10 x_Coat + 4 x_Pants <= 200\n",
            "\n",
            "_C3: - 99999999999 Lease_Machine + 0.05 x_Coat + 0.0333333333333 x_Pants <= 1\n",
            "\n",
            "VARIABLES\n",
            "0 <= Lease_Machine <= 1 Integer\n",
            "x_Coat Continuous\n",
            "x_Pants Continuous\n",
            "\n"
          ]
        }
      ]
    },
    {
      "cell_type": "code",
      "source": [
        "prob.solve()"
      ],
      "metadata": {
        "id": "byj922XqUpFU",
        "outputId": "5897653d-1ecd-4f4f-b5ac-0fcdd5774318",
        "colab": {
          "base_uri": "https://localhost:8080/"
        }
      },
      "execution_count": 23,
      "outputs": [
        {
          "output_type": "execute_result",
          "data": {
            "text/plain": [
              "1"
            ]
          },
          "metadata": {},
          "execution_count": 23
        }
      ]
    },
    {
      "cell_type": "code",
      "source": [
        "print('Profit: '+str(prob.objective.value()))\n",
        "for v in prob.variables():\n",
        "  print(v, v.varValue)\n",
        "\n"
      ],
      "metadata": {
        "id": "Q0H81PI2UtcV",
        "outputId": "854ae4d4-b586-4edb-f895-7517e8faea22",
        "colab": {
          "base_uri": "https://localhost:8080/"
        }
      },
      "execution_count": 24,
      "outputs": [
        {
          "output_type": "stream",
          "name": "stdout",
          "text": [
            "Profit: 1200.0\n",
            "Lease_Machine 0.0\n",
            "x_Coat 0.0\n",
            "x_Pants 30.0\n"
          ]
        }
      ]
    }
  ],
  "metadata": {
    "celltoolbar": "Slideshow",
    "kernelspec": {
      "display_name": "Python 3",
      "language": "python",
      "name": "python3"
    },
    "language_info": {
      "codemirror_mode": {
        "name": "ipython",
        "version": 3
      },
      "file_extension": ".py",
      "mimetype": "text/x-python",
      "name": "python",
      "nbconvert_exporter": "python",
      "pygments_lexer": "ipython3",
      "version": "3.8.3"
    },
    "rise": {
      "enable_chalkboard": false,
      "overlay": "<div class='background'></div><div class='header'>WS 19/20</br>DSS</div><div class='logo'><img src='images/unilogo.png'></div><div class='bar'></div>",
      "scroll": true,
      "slideNumber": "h.v"
    },
    "toc": {
      "base_numbering": 1,
      "nav_menu": {},
      "number_sections": true,
      "sideBar": true,
      "skip_h1_title": true,
      "title_cell": "Table of Contents",
      "title_sidebar": "Contents",
      "toc_cell": true,
      "toc_position": {},
      "toc_section_display": true,
      "toc_window_display": false
    },
    "colab": {
      "provenance": []
    }
  },
  "nbformat": 4,
  "nbformat_minor": 0
}