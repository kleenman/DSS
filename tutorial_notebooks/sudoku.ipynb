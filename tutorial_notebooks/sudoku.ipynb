{
  "cells": [
    {
      "cell_type": "markdown",
      "metadata": {
        "cell_style": "center",
        "id": "cpP9qhhLpvPr"
      },
      "source": [
        "<div class='bar_title'></div>\n",
        "\n",
        "*Decision Support Systems*\n",
        "\n",
        "# Headline\n",
        "\n",
        "your name <br>"
      ]
    },
    {
      "cell_type": "code",
      "execution_count": 16,
      "metadata": {
        "colab": {
          "base_uri": "https://localhost:8080/"
        },
        "id": "uH1-Q8sfpvPt",
        "outputId": "d748dbb3-f409-48fd-cd27-c8eacf8a730b"
      },
      "outputs": [
        {
          "output_type": "stream",
          "name": "stdout",
          "text": [
            "Requirement already satisfied: pulp in /usr/local/lib/python3.10/dist-packages (2.8.0)\n"
          ]
        }
      ],
      "source": [
        "!pip install pulp\n",
        "import pulp"
      ]
    },
    {
      "cell_type": "code",
      "execution_count": 25,
      "metadata": {
        "cell_style": "center",
        "id": "KBvq2EropvPv"
      },
      "outputs": [],
      "source": [
        "rows = range(1, 10)\n",
        "columns = range(1, 10)\n",
        "boxes = [\n",
        "    [(3 * i + k + 1, 3 * j + l + 1) for k in range(3) for l in range(3)]\n",
        "    for i in range(3)\n",
        "    for j in range(3)\n",
        "]\n",
        "values = range(1, 10)\n"
      ]
    },
    {
      "cell_type": "code",
      "source": [
        "prob = pulp.LpProblem(name ='Sudoku', sense=pulp.LpMinimize)\n",
        "\n",
        "x = pulp.LpVariable.dicts(name='x_', indices=(values, rows, columns), lowBound=0, upBound=1, cat=pulp.LpBinary)\n",
        "\n",
        "# Objective function\n",
        "\n",
        "# Constraints\n",
        "for i in rows:\n",
        "  for j in columns:\n",
        "    prob += pulp.lpSum([x[k][i][j] for k in values]) == 1\n",
        "\n",
        "for k in values:\n",
        "  for j in columns:\n",
        "    prob += pulp.lpSum([x[k][i][j] for i in rows]) == 1\n",
        "\n",
        "  for i in rows:\n",
        "    prob += pulp.lpSum([x[k][i][j] for j in columns]) == 1\n",
        "\n",
        "    for b in boxes:\n",
        "      prob += pulp.lpSum([x[k][i][j] for i, j in b]) == 1\n",
        "input_data = [\n",
        "    (5, 1, 1),\n",
        "    (6, 2, 1),\n",
        "    (8, 4, 1),\n",
        "    (4, 5, 1),\n",
        "    (7, 6, 1),\n",
        "    (3, 1, 2),\n",
        "    (9, 3, 2),\n",
        "    (6, 7, 2),\n",
        "    (8, 3, 3),\n",
        "    (1, 2, 4),\n",
        "    (8, 5, 4),\n",
        "    (4, 8, 4),\n",
        "    (7, 1, 5),\n",
        "    (9, 2, 5),\n",
        "    (6, 4, 5),\n",
        "    (2, 6, 5),\n",
        "    (1, 8, 5),\n",
        "    (8, 9, 5),\n",
        "    (5, 2, 6),\n",
        "    (3, 5, 6),\n",
        "    (9, 8, 6),\n",
        "    (2, 7, 7),\n",
        "    (6, 3, 8),\n",
        "    (8, 7, 8),\n",
        "    (7, 9, 8),\n",
        "    (3, 4, 9),\n",
        "    (1, 5, 9),\n",
        "    (6, 6, 9),\n",
        "    (5, 8, 9),\n",
        "]\n",
        "\n",
        "for k, i, j in input_data:\n",
        "    prob += x[k][i][j] == 1"
      ],
      "metadata": {
        "id": "DY4CbBzZrJ9Q"
      },
      "execution_count": 29,
      "outputs": []
    },
    {
      "cell_type": "code",
      "source": [
        "prob.solve()\n",
        "\n",
        "print(\"Status:\", pulp.LpStatus[prob.status])\n",
        "for v in prob.variables():\n",
        "  if v.varValue == 1:\n",
        "    print(v.name, \"=\", v.varValue)\n"
      ],
      "metadata": {
        "colab": {
          "base_uri": "https://localhost:8080/"
        },
        "id": "ow2Y2M2fuTYA",
        "outputId": "03886748-aa6e-44f4-a7f9-749a64ca2ade"
      },
      "execution_count": 32,
      "outputs": [
        {
          "output_type": "stream",
          "name": "stdout",
          "text": [
            "Status: Optimal\n",
            "x__1_1_8 = 1.0\n",
            "x__1_2_4 = 1.0\n",
            "x__1_3_1 = 1.0\n",
            "x__1_4_6 = 1.0\n",
            "x__1_5_9 = 1.0\n",
            "x__1_6_2 = 1.0\n",
            "x__1_7_3 = 1.0\n",
            "x__1_8_5 = 1.0\n",
            "x__1_9_7 = 1.0\n",
            "x__2_1_9 = 1.0\n",
            "x__2_2_3 = 1.0\n",
            "x__2_3_6 = 1.0\n",
            "x__2_4_8 = 1.0\n",
            "x__2_5_2 = 1.0\n",
            "x__2_6_5 = 1.0\n",
            "x__2_7_7 = 1.0\n",
            "x__2_8_1 = 1.0\n",
            "x__2_9_4 = 1.0\n",
            "x__3_1_2 = 1.0\n",
            "x__3_2_7 = 1.0\n",
            "x__3_3_4 = 1.0\n",
            "x__3_4_9 = 1.0\n",
            "x__3_5_6 = 1.0\n",
            "x__3_6_3 = 1.0\n",
            "x__3_7_5 = 1.0\n",
            "x__3_8_8 = 1.0\n",
            "x__3_9_1 = 1.0\n",
            "x__4_1_3 = 1.0\n",
            "x__4_2_8 = 1.0\n",
            "x__4_3_5 = 1.0\n",
            "x__4_4_7 = 1.0\n",
            "x__4_5_1 = 1.0\n",
            "x__4_6_6 = 1.0\n",
            "x__4_7_9 = 1.0\n",
            "x__4_8_4 = 1.0\n",
            "x__4_9_2 = 1.0\n",
            "x__5_1_1 = 1.0\n",
            "x__5_2_6 = 1.0\n",
            "x__5_3_7 = 1.0\n",
            "x__5_4_2 = 1.0\n",
            "x__5_5_5 = 1.0\n",
            "x__5_6_8 = 1.0\n",
            "x__5_7_4 = 1.0\n",
            "x__5_8_9 = 1.0\n",
            "x__5_9_3 = 1.0\n",
            "x__6_1_4 = 1.0\n",
            "x__6_2_1 = 1.0\n",
            "x__6_3_8 = 1.0\n",
            "x__6_4_5 = 1.0\n",
            "x__6_5_3 = 1.0\n",
            "x__6_6_9 = 1.0\n",
            "x__6_7_2 = 1.0\n",
            "x__6_8_7 = 1.0\n",
            "x__6_9_6 = 1.0\n",
            "x__7_1_5 = 1.0\n",
            "x__7_2_2 = 1.0\n",
            "x__7_3_9 = 1.0\n",
            "x__7_4_4 = 1.0\n",
            "x__7_5_7 = 1.0\n",
            "x__7_6_1 = 1.0\n",
            "x__7_7_6 = 1.0\n",
            "x__7_8_3 = 1.0\n",
            "x__7_9_8 = 1.0\n",
            "x__8_1_6 = 1.0\n",
            "x__8_2_9 = 1.0\n",
            "x__8_3_3 = 1.0\n",
            "x__8_4_1 = 1.0\n",
            "x__8_5_4 = 1.0\n",
            "x__8_6_7 = 1.0\n",
            "x__8_7_8 = 1.0\n",
            "x__8_8_2 = 1.0\n",
            "x__8_9_5 = 1.0\n",
            "x__9_1_7 = 1.0\n",
            "x__9_2_5 = 1.0\n",
            "x__9_3_2 = 1.0\n",
            "x__9_4_3 = 1.0\n",
            "x__9_5_8 = 1.0\n",
            "x__9_6_4 = 1.0\n",
            "x__9_7_1 = 1.0\n",
            "x__9_8_6 = 1.0\n",
            "x__9_9_9 = 1.0\n"
          ]
        }
      ]
    }
  ],
  "metadata": {
    "celltoolbar": "Slideshow",
    "kernelspec": {
      "display_name": "Python 3",
      "language": "python",
      "name": "python3"
    },
    "language_info": {
      "codemirror_mode": {
        "name": "ipython",
        "version": 3
      },
      "file_extension": ".py",
      "mimetype": "text/x-python",
      "name": "python",
      "nbconvert_exporter": "python",
      "pygments_lexer": "ipython3",
      "version": "3.8.3"
    },
    "rise": {
      "enable_chalkboard": false,
      "overlay": "<div class='background'></div><div class='header'>WS 19/20</br>DSS</div><div class='logo'><img src='images/unilogo.png'></div><div class='bar'></div>",
      "scroll": true,
      "slideNumber": "h.v"
    },
    "toc": {
      "base_numbering": 1,
      "nav_menu": {},
      "number_sections": true,
      "sideBar": true,
      "skip_h1_title": true,
      "title_cell": "Table of Contents",
      "title_sidebar": "Contents",
      "toc_cell": true,
      "toc_position": {},
      "toc_section_display": true,
      "toc_window_display": false
    },
    "colab": {
      "provenance": []
    }
  },
  "nbformat": 4,
  "nbformat_minor": 0
}