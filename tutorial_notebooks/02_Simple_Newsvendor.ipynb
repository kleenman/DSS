{
  "cells": [
    {
      "cell_type": "markdown",
      "metadata": {
        "cell_style": "center",
        "id": "SXT7FJrHPpdq"
      },
      "source": [
        "<div class='bar_title'></div>\n",
        "\n",
        "*Decision Support Systems*\n",
        "\n",
        "# Headline\n",
        "\n",
        "your name <br>"
      ]
    },
    {
      "cell_type": "code",
      "execution_count": 2,
      "metadata": {
        "id": "epVy8txgPpdv",
        "outputId": "7f8cfdb5-63bd-4f80-ea46-f8912d71df91",
        "colab": {
          "base_uri": "https://localhost:8080/"
        }
      },
      "outputs": [
        {
          "output_type": "stream",
          "name": "stdout",
          "text": [
            "Requirement already satisfied: pulp in /usr/local/lib/python3.10/dist-packages (2.7.0)\n"
          ]
        }
      ],
      "source": [
        "!pip install pulp\n",
        "import pulp"
      ]
    },
    {
      "cell_type": "markdown",
      "metadata": {
        "id": "4xeRiowSPpdx"
      },
      "source": [
        "## Section"
      ]
    },
    {
      "cell_type": "markdown",
      "metadata": {
        "id": "tjnrJQjePpdy"
      },
      "source": [
        "text"
      ]
    },
    {
      "cell_type": "markdown",
      "metadata": {
        "id": "d-_skhBOPpdy"
      },
      "source": [
        "### Subsection\n",
        "\n",
        "text"
      ]
    },
    {
      "cell_type": "markdown",
      "metadata": {
        "cell_style": "center",
        "id": "OO75vNnQPpdy"
      },
      "source": [
        "#### Subsubsection\n",
        "\n",
        "text"
      ]
    },
    {
      "cell_type": "code",
      "execution_count": 4,
      "metadata": {
        "cell_style": "center",
        "id": "PXCTQiyPPpdz",
        "outputId": "b7fbef61-aca4-4a29-c19a-9da051fdea85",
        "colab": {
          "base_uri": "https://localhost:8080/"
        }
      },
      "outputs": [
        {
          "output_type": "execute_result",
          "data": {
            "text/plain": [
              "Newsvendor:\n",
              "MAXIMIZE\n",
              "-1.25*Purchase + 1.0*SALES_HD + 1.0*SALES_LD + 2.0*SALES_MD + 0.5*SALES_VHD + 0.5*SALES_VLD + 0.0\n",
              "VARIABLES\n",
              "Purchase Continuous\n",
              "SALES_HD Continuous\n",
              "SALES_LD Continuous\n",
              "SALES_MD Continuous\n",
              "SALES_VHD Continuous\n",
              "SALES_VLD Continuous"
            ]
          },
          "metadata": {},
          "execution_count": 4
        }
      ],
      "source": [
        "q = {\n",
        "    'VLD': 0.1,\n",
        "    'LD': 0.2,\n",
        "    'MD': 0.4,\n",
        "    'HD': 0.2,\n",
        "    'VHD': 0.1\n",
        "}\n",
        "\n",
        "demand = {\n",
        "    'VLD': 7000,\n",
        "    'LD': 8000,\n",
        "    'MD': 9000,\n",
        "    'HD': 10000,\n",
        "    'VHD': 11000\n",
        "}\n",
        "\n",
        "scenarios = ['VLD', 'LD', 'MD', 'HD', 'VHD']\n",
        "\n",
        "prob = pulp.LpProblem(name='Newsvendor', sense=pulp.LpMaximize)\n",
        "\n",
        "x = pulp.LpVariable(name='Purchase', lowBound=0, upBound=None)\n",
        "\n",
        "y = pulp.LpVariable.dicts(name='SALES', indices=scenarios, lowBound=0)\n",
        "\n",
        "prob += pulp.lpSum([y[i]*5*q[i] for i in scenarios]) - x*1.25\n",
        "\n",
        "prob\n",
        "\n"
      ]
    },
    {
      "cell_type": "code",
      "source": [
        "for i in scenarios:\n",
        "  prob += y[i] <= x\n",
        "\n",
        "for i in scenarios:\n",
        "  prob += y[i] <= demand[i]\n",
        "\n",
        "prob"
      ],
      "metadata": {
        "id": "tNFRXtp_TqoM",
        "outputId": "ef1f37bd-8ab7-484c-a31f-0e4d45c003f4",
        "colab": {
          "base_uri": "https://localhost:8080/"
        }
      },
      "execution_count": 5,
      "outputs": [
        {
          "output_type": "execute_result",
          "data": {
            "text/plain": [
              "Newsvendor:\n",
              "MAXIMIZE\n",
              "-1.25*Purchase + 1.0*SALES_HD + 1.0*SALES_LD + 2.0*SALES_MD + 0.5*SALES_VHD + 0.5*SALES_VLD + 0.0\n",
              "SUBJECT TO\n",
              "_C1: - Purchase + SALES_VLD <= 0\n",
              "\n",
              "_C2: - Purchase + SALES_LD <= 0\n",
              "\n",
              "_C3: - Purchase + SALES_MD <= 0\n",
              "\n",
              "_C4: - Purchase + SALES_HD <= 0\n",
              "\n",
              "_C5: - Purchase + SALES_VHD <= 0\n",
              "\n",
              "_C6: SALES_VLD <= 7000\n",
              "\n",
              "_C7: SALES_LD <= 8000\n",
              "\n",
              "_C8: SALES_MD <= 9000\n",
              "\n",
              "_C9: SALES_HD <= 10000\n",
              "\n",
              "_C10: SALES_VHD <= 11000\n",
              "\n",
              "VARIABLES\n",
              "Purchase Continuous\n",
              "SALES_HD Continuous\n",
              "SALES_LD Continuous\n",
              "SALES_MD Continuous\n",
              "SALES_VHD Continuous\n",
              "SALES_VLD Continuous"
            ]
          },
          "metadata": {},
          "execution_count": 5
        }
      ]
    },
    {
      "cell_type": "code",
      "source": [
        "prob.solve()\n",
        "\n",
        "prob.solve()\n",
        "for i in scenarios:\n",
        "  print(f'{y[i]}: {y[i].varValue}')\n",
        "\n",
        "print(f'Optimal profit: {prob.objective.value()}')\n",
        "print(f'Purchased newspapers: {x.varValue}')"
      ],
      "metadata": {
        "id": "JWNJfDRhUilY",
        "outputId": "d6d223c0-86dd-4150-fb51-07088264ef4c",
        "colab": {
          "base_uri": "https://localhost:8080/"
        }
      },
      "execution_count": 7,
      "outputs": [
        {
          "output_type": "stream",
          "name": "stdout",
          "text": [
            "SALES_VLD: 7000.0\n",
            "SALES_LD: 8000.0\n",
            "SALES_MD: 9000.0\n",
            "SALES_HD: 10000.0\n",
            "SALES_VHD: 10000.0\n",
            "Optimal profit: 32000.0\n",
            "Purchased newspapers: 10000.0\n"
          ]
        }
      ]
    }
  ],
  "metadata": {
    "celltoolbar": "Slideshow",
    "kernelspec": {
      "display_name": "Python 3",
      "language": "python",
      "name": "python3"
    },
    "language_info": {
      "codemirror_mode": {
        "name": "ipython",
        "version": 3
      },
      "file_extension": ".py",
      "mimetype": "text/x-python",
      "name": "python",
      "nbconvert_exporter": "python",
      "pygments_lexer": "ipython3",
      "version": "3.8.3"
    },
    "rise": {
      "enable_chalkboard": false,
      "overlay": "<div class='background'></div><div class='header'>WS 19/20</br>DSS</div><div class='logo'><img src='images/unilogo.png'></div><div class='bar'></div>",
      "scroll": true,
      "slideNumber": "h.v"
    },
    "toc": {
      "base_numbering": 1,
      "nav_menu": {},
      "number_sections": true,
      "sideBar": true,
      "skip_h1_title": true,
      "title_cell": "Table of Contents",
      "title_sidebar": "Contents",
      "toc_cell": true,
      "toc_position": {},
      "toc_section_display": true,
      "toc_window_display": false
    },
    "colab": {
      "provenance": []
    }
  },
  "nbformat": 4,
  "nbformat_minor": 0
}