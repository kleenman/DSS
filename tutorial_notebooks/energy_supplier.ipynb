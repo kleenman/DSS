{
  "cells": [
    {
      "cell_type": "markdown",
      "metadata": {
        "cell_style": "center",
        "id": "2LF0hj5lR3Qo"
      },
      "source": [
        "<div class='bar_title'></div>\n",
        "\n",
        "*Decision Support Systems*\n",
        "\n",
        "# Headline\n",
        "\n",
        "your name <br>"
      ]
    },
    {
      "cell_type": "code",
      "execution_count": 1,
      "metadata": {
        "id": "WPJGreclR3Qp",
        "outputId": "45360e03-c435-4875-e157-4ad5140df187",
        "colab": {
          "base_uri": "https://localhost:8080/"
        }
      },
      "outputs": [
        {
          "output_type": "stream",
          "name": "stdout",
          "text": [
            "Collecting pulp\n",
            "  Downloading PuLP-2.8.0-py3-none-any.whl (17.7 MB)\n",
            "\u001b[2K     \u001b[90m━━━━━━━━━━━━━━━━━━━━━━━━━━━━━━━━━━━━━━━━\u001b[0m \u001b[32m17.7/17.7 MB\u001b[0m \u001b[31m29.9 MB/s\u001b[0m eta \u001b[36m0:00:00\u001b[0m\n",
            "\u001b[?25hInstalling collected packages: pulp\n",
            "Successfully installed pulp-2.8.0\n"
          ]
        }
      ],
      "source": [
        "!pip install pulp\n",
        "import pulp"
      ]
    },
    {
      "cell_type": "code",
      "source": [
        "l = 0.2\n",
        "scenarios = ['1', '2', '3']\n",
        "prices = {\n",
        "    '1': 14,\n",
        "    '2': 20\n",
        "}\n",
        "\n",
        "purchasing_costs = {\n",
        "    '1': 5,\n",
        "    '2': 8,\n",
        "    '3': 10\n",
        "}\n",
        "\n",
        "demand = {\n",
        "    '1': 100,\n",
        "    '2': 150,\n",
        "    '3': 180\n",
        "}\n",
        "\n",
        "p = 1/3"
      ],
      "metadata": {
        "id": "t4ISm2djR823"
      },
      "execution_count": 7,
      "outputs": []
    },
    {
      "cell_type": "code",
      "source": [
        "prob = pulp.LpProblem('Energy_Supplier', pulp.LpMinimize)\n",
        "\n",
        "# non-recourse: how much to buy in period 1\n",
        "\n",
        "x = pulp.LpVariable(name='Amount_bought_in_period_1', lowBound=0)\n",
        "\n",
        "# recourse: how much to buy in period 2\n",
        "\n",
        "y = pulp.LpVariable.dicts(name='Amount_bought_in_period_2', indices=scenarios, lowBound=0)\n",
        "\n",
        "# objective function:\n",
        "\n",
        "prob += pulp.lpSum([p*purchasing_costs[i]*y[i] for i in scenarios]) + l*x + purchasing_costs['1']*x\n",
        "\n",
        "prob"
      ],
      "metadata": {
        "colab": {
          "base_uri": "https://localhost:8080/"
        },
        "id": "vEKWfzmWd5Y4",
        "outputId": "a93679c1-b72e-4233-fd65-6ca6c0b5aa74"
      },
      "execution_count": 8,
      "outputs": [
        {
          "output_type": "execute_result",
          "data": {
            "text/plain": [
              "Energy_Supplier:\n",
              "MINIMIZE\n",
              "5.2*Amount_bought_in_period_1 + 1.6666666666666665*Amount_bought_in_period_2_1 + 2.6666666666666665*Amount_bought_in_period_2_2 + 3.333333333333333*Amount_bought_in_period_2_3 + 0.0\n",
              "VARIABLES\n",
              "Amount_bought_in_period_1 Continuous\n",
              "Amount_bought_in_period_2_1 Continuous\n",
              "Amount_bought_in_period_2_2 Continuous\n",
              "Amount_bought_in_period_2_3 Continuous"
            ]
          },
          "metadata": {},
          "execution_count": 8
        }
      ]
    },
    {
      "cell_type": "code",
      "source": [
        "#constraints\n",
        "prob += x >= 100\n",
        "\n",
        "for i in scenarios:\n",
        "  prob += y[i] + x - 100 >= demand[i]\n",
        "\n",
        "prob"
      ],
      "metadata": {
        "colab": {
          "base_uri": "https://localhost:8080/"
        },
        "id": "eiBS1w-Vjf72",
        "outputId": "3890057c-8777-451e-b533-23593fd1b85f"
      },
      "execution_count": 9,
      "outputs": [
        {
          "output_type": "execute_result",
          "data": {
            "text/plain": [
              "Energy_Supplier:\n",
              "MINIMIZE\n",
              "5.2*Amount_bought_in_period_1 + 1.6666666666666665*Amount_bought_in_period_2_1 + 2.6666666666666665*Amount_bought_in_period_2_2 + 3.333333333333333*Amount_bought_in_period_2_3 + 0.0\n",
              "SUBJECT TO\n",
              "_C1: Amount_bought_in_period_1 >= 100\n",
              "\n",
              "_C2: Amount_bought_in_period_1 + Amount_bought_in_period_2_1 >= 200\n",
              "\n",
              "_C3: Amount_bought_in_period_1 + Amount_bought_in_period_2_2 >= 250\n",
              "\n",
              "_C4: Amount_bought_in_period_1 + Amount_bought_in_period_2_3 >= 280\n",
              "\n",
              "VARIABLES\n",
              "Amount_bought_in_period_1 Continuous\n",
              "Amount_bought_in_period_2_1 Continuous\n",
              "Amount_bought_in_period_2_2 Continuous\n",
              "Amount_bought_in_period_2_3 Continuous"
            ]
          },
          "metadata": {},
          "execution_count": 9
        }
      ]
    },
    {
      "cell_type": "code",
      "source": [
        "prob.solve()\n",
        "prob"
      ],
      "metadata": {
        "colab": {
          "base_uri": "https://localhost:8080/"
        },
        "id": "d9MGAekYlPp6",
        "outputId": "fd63c7ee-9d40-473a-8e7f-eba6fbdc8eb9"
      },
      "execution_count": 10,
      "outputs": [
        {
          "output_type": "execute_result",
          "data": {
            "text/plain": [
              "Energy_Supplier:\n",
              "MINIMIZE\n",
              "5.2*Amount_bought_in_period_1 + 1.6666666666666665*Amount_bought_in_period_2_1 + 2.6666666666666665*Amount_bought_in_period_2_2 + 3.333333333333333*Amount_bought_in_period_2_3 + 0.0\n",
              "SUBJECT TO\n",
              "_C1: Amount_bought_in_period_1 >= 100\n",
              "\n",
              "_C2: Amount_bought_in_period_1 + Amount_bought_in_period_2_1 >= 200\n",
              "\n",
              "_C3: Amount_bought_in_period_1 + Amount_bought_in_period_2_2 >= 250\n",
              "\n",
              "_C4: Amount_bought_in_period_1 + Amount_bought_in_period_2_3 >= 280\n",
              "\n",
              "VARIABLES\n",
              "Amount_bought_in_period_1 Continuous\n",
              "Amount_bought_in_period_2_1 Continuous\n",
              "Amount_bought_in_period_2_2 Continuous\n",
              "Amount_bought_in_period_2_3 Continuous"
            ]
          },
          "metadata": {},
          "execution_count": 10
        }
      ]
    },
    {
      "cell_type": "code",
      "source": [
        "print('Minimal cost: ', prob.objective.value())\n",
        "\n",
        "for v in prob.variables():\n",
        "  print(f'{v}: {v.varValue}')"
      ],
      "metadata": {
        "colab": {
          "base_uri": "https://localhost:8080/"
        },
        "id": "vzTRDwsdlV6A",
        "outputId": "2b95adef-4a8b-43db-8287-892fae102126"
      },
      "execution_count": 12,
      "outputs": [
        {
          "output_type": "stream",
          "name": "stdout",
          "text": [
            "Minimal cost:  1400.0\n",
            "Amount_bought_in_period_1: 250.0\n",
            "Amount_bought_in_period_2_1: 0.0\n",
            "Amount_bought_in_period_2_2: 0.0\n",
            "Amount_bought_in_period_2_3: 30.0\n"
          ]
        }
      ]
    }
  ],
  "metadata": {
    "celltoolbar": "Slideshow",
    "kernelspec": {
      "display_name": "Python 3",
      "language": "python",
      "name": "python3"
    },
    "language_info": {
      "codemirror_mode": {
        "name": "ipython",
        "version": 3
      },
      "file_extension": ".py",
      "mimetype": "text/x-python",
      "name": "python",
      "nbconvert_exporter": "python",
      "pygments_lexer": "ipython3",
      "version": "3.8.3"
    },
    "rise": {
      "enable_chalkboard": false,
      "overlay": "<div class='background'></div><div class='header'>WS 19/20</br>DSS</div><div class='logo'><img src='images/unilogo.png'></div><div class='bar'></div>",
      "scroll": true,
      "slideNumber": "h.v"
    },
    "toc": {
      "base_numbering": 1,
      "nav_menu": {},
      "number_sections": true,
      "sideBar": true,
      "skip_h1_title": true,
      "title_cell": "Table of Contents",
      "title_sidebar": "Contents",
      "toc_cell": true,
      "toc_position": {},
      "toc_section_display": true,
      "toc_window_display": false
    },
    "colab": {
      "provenance": []
    }
  },
  "nbformat": 4,
  "nbformat_minor": 0
}