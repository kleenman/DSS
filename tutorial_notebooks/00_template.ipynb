{
  "cells": [
    {
      "cell_type": "markdown",
      "metadata": {
        "cell_style": "center",
        "id": "a_fEYgDPZcXL"
      },
      "source": [
        "<div class='bar_title'></div>\n",
        "\n",
        "*Decision Support Systems*\n",
        "\n",
        "# Headline\n",
        "\n",
        "your name <br>"
      ]
    },
    {
      "cell_type": "code",
      "execution_count": null,
      "metadata": {
        "id": "xtbD5bYUZcXX",
        "outputId": "74fee34d-ce37-4d21-c732-cbde0f90657e"
      },
      "outputs": [
        {
          "name": "stdout",
          "output_type": "stream",
          "text": [
            "Requirement already satisfied: pulp in /usr/local/anaconda3/lib/python3.8/site-packages (2.4)\n",
            "Requirement already satisfied: amply>=0.1.2 in /usr/local/anaconda3/lib/python3.8/site-packages (from pulp) (0.1.4)\n",
            "Requirement already satisfied: pyparsing in /usr/local/anaconda3/lib/python3.8/site-packages (from amply>=0.1.2->pulp) (2.4.7)\n",
            "Requirement already satisfied: docutils>=0.3 in /usr/local/anaconda3/lib/python3.8/site-packages (from amply>=0.1.2->pulp) (0.16)\n"
          ]
        }
      ],
      "source": [
        "!pip install pulp\n",
        "from pulp import *"
      ]
    },
    {
      "cell_type": "markdown",
      "metadata": {
        "id": "4WPTh_k6ZcXd"
      },
      "source": [
        "## Section"
      ]
    },
    {
      "cell_type": "markdown",
      "metadata": {
        "id": "Bmcg0UkUZcXe"
      },
      "source": [
        "text"
      ]
    },
    {
      "cell_type": "markdown",
      "metadata": {
        "id": "TIwVopBHZcXf"
      },
      "source": [
        "### Subsection\n",
        "\n",
        "text"
      ]
    },
    {
      "cell_type": "markdown",
      "metadata": {
        "cell_style": "center",
        "id": "S9K_YUn4ZcXf"
      },
      "source": [
        "#### Subsubsection\n",
        "\n",
        "text"
      ]
    },
    {
      "cell_type": "code",
      "execution_count": null,
      "metadata": {
        "cell_style": "center",
        "id": "MH9PQWlKZcXg"
      },
      "outputs": [],
      "source": [
        "# code cell"
      ]
    }
  ],
  "metadata": {
    "celltoolbar": "Slideshow",
    "kernelspec": {
      "display_name": "Python 3",
      "language": "python",
      "name": "python3"
    },
    "language_info": {
      "codemirror_mode": {
        "name": "ipython",
        "version": 3
      },
      "file_extension": ".py",
      "mimetype": "text/x-python",
      "name": "python",
      "nbconvert_exporter": "python",
      "pygments_lexer": "ipython3",
      "version": "3.8.3"
    },
    "rise": {
      "enable_chalkboard": false,
      "overlay": "<div class='background'></div><div class='header'>WS 19/20</br>DSS</div><div class='logo'><img src='images/unilogo.png'></div><div class='bar'></div>",
      "scroll": true,
      "slideNumber": "h.v"
    },
    "toc": {
      "base_numbering": 1,
      "nav_menu": {},
      "number_sections": true,
      "sideBar": true,
      "skip_h1_title": true,
      "title_cell": "Table of Contents",
      "title_sidebar": "Contents",
      "toc_cell": true,
      "toc_position": {},
      "toc_section_display": true,
      "toc_window_display": false
    },
    "colab": {
      "provenance": []
    }
  },
  "nbformat": 4,
  "nbformat_minor": 0
}