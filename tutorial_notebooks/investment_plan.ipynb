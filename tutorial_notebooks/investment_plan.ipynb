{
  "cells": [
    {
      "cell_type": "markdown",
      "metadata": {
        "cell_style": "center",
        "id": "Zikd0Yu0F9FT"
      },
      "source": [
        "<div class='bar_title'></div>\n",
        "\n",
        "*Decision Support Systems*\n",
        "\n",
        "# Headline\n",
        "\n",
        "your name <br>"
      ]
    },
    {
      "cell_type": "code",
      "execution_count": 3,
      "metadata": {
        "id": "hAUw1irBF9FV",
        "outputId": "7721e45f-c4bf-428e-c099-7dd76cb4558d",
        "colab": {
          "base_uri": "https://localhost:8080/"
        }
      },
      "outputs": [
        {
          "output_type": "stream",
          "name": "stdout",
          "text": [
            "Requirement already satisfied: pulp in /usr/local/lib/python3.10/dist-packages (2.8.0)\n"
          ]
        }
      ],
      "source": [
        "!pip install pulp\n",
        "import pulp"
      ]
    },
    {
      "cell_type": "code",
      "execution_count": 16,
      "metadata": {
        "cell_style": "center",
        "id": "sdwKARX2F9FX",
        "outputId": "d0ecc12a-4bcc-42c6-bd15-47db89495561",
        "colab": {
          "base_uri": "https://localhost:8080/"
        }
      },
      "outputs": [
        {
          "output_type": "execute_result",
          "data": {
            "text/plain": [
              "[1, 2, 3, 4]"
            ]
          },
          "metadata": {},
          "execution_count": 16
        }
      ],
      "source": [
        "# code cell\n",
        "\n",
        "projects = range(1,5)\n",
        "npvs = {\n",
        "    '1': 55,\n",
        "    '2': 40,\n",
        "    '3': 30,\n",
        "    '4': 20\n",
        "}\n",
        "\n",
        "cf = {\n",
        "    '1': 35,\n",
        "    '2': 25,\n",
        "    '3': 20,\n",
        "    '4': 15\n",
        "}\n",
        "\n",
        "b = 70\n",
        "\n",
        "[i for i in range(1, 5)]"
      ]
    },
    {
      "cell_type": "code",
      "source": [
        "prob = pulp.LpProblem(name='Investment_Plan', sense=pulp.LpMaximize)\n",
        "\n",
        "x = pulp.LpVariable.dicts(name='Invest_in', indices=projects, cat=pulp.LpBinary)\n",
        "\n",
        "# Objective function\n",
        "prob += pulp.lpSum([npvs[str(i)]*x[i] for i in projects])\n",
        "\n",
        "# Constraints\n",
        "prob += pulp.lpSum([cf[str(i)]*x[i] for i in projects]) <= b\n",
        "prob += pulp.lpSum([x[i] for i in projects]) >= 2\n",
        "prob += x[1] + x[2] <= 1\n",
        "prob += x[1] == x[4]\n"
      ],
      "metadata": {
        "id": "DV1DIcgtJH83"
      },
      "execution_count": 32,
      "outputs": []
    },
    {
      "cell_type": "code",
      "source": [
        "prob.solve()"
      ],
      "metadata": {
        "id": "q1ArzFg3M5N2",
        "outputId": "3beef3e4-a6cd-4357-e03e-d250e9192e7b",
        "colab": {
          "base_uri": "https://localhost:8080/"
        }
      },
      "execution_count": 33,
      "outputs": [
        {
          "output_type": "execute_result",
          "data": {
            "text/plain": [
              "1"
            ]
          },
          "metadata": {},
          "execution_count": 33
        }
      ]
    },
    {
      "cell_type": "code",
      "source": [
        "for v in prob.variables():\n",
        "  print(v, v.varValue)\n",
        "\n",
        "print(prob.objective.value())"
      ],
      "metadata": {
        "id": "9MwAx7hhNFi7",
        "outputId": "a61243a7-d77c-483f-a0ee-d8fde31ff20d",
        "colab": {
          "base_uri": "https://localhost:8080/"
        }
      },
      "execution_count": 34,
      "outputs": [
        {
          "output_type": "stream",
          "name": "stdout",
          "text": [
            "Invest_in_1 1.0\n",
            "Invest_in_2 0.0\n",
            "Invest_in_3 1.0\n",
            "Invest_in_4 1.0\n",
            "105.0\n"
          ]
        }
      ]
    }
  ],
  "metadata": {
    "celltoolbar": "Slideshow",
    "kernelspec": {
      "display_name": "Python 3",
      "language": "python",
      "name": "python3"
    },
    "language_info": {
      "codemirror_mode": {
        "name": "ipython",
        "version": 3
      },
      "file_extension": ".py",
      "mimetype": "text/x-python",
      "name": "python",
      "nbconvert_exporter": "python",
      "pygments_lexer": "ipython3",
      "version": "3.8.3"
    },
    "rise": {
      "enable_chalkboard": false,
      "overlay": "<div class='background'></div><div class='header'>WS 19/20</br>DSS</div><div class='logo'><img src='images/unilogo.png'></div><div class='bar'></div>",
      "scroll": true,
      "slideNumber": "h.v"
    },
    "toc": {
      "base_numbering": 1,
      "nav_menu": {},
      "number_sections": true,
      "sideBar": true,
      "skip_h1_title": true,
      "title_cell": "Table of Contents",
      "title_sidebar": "Contents",
      "toc_cell": true,
      "toc_position": {},
      "toc_section_display": true,
      "toc_window_display": false
    },
    "colab": {
      "provenance": []
    }
  },
  "nbformat": 4,
  "nbformat_minor": 0
}