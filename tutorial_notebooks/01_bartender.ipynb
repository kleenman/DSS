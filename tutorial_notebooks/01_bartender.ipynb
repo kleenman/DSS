{
  "cells": [
    {
      "cell_type": "markdown",
      "metadata": {
        "cell_style": "center",
        "id": "46HxZEgi8FwX"
      },
      "source": [
        "<div class='bar_title'></div>\n",
        "\n",
        "*Decision Support Systems*\n",
        "\n",
        "# Headline\n",
        "\n",
        "your name <br>"
      ]
    },
    {
      "cell_type": "code",
      "execution_count": 1,
      "metadata": {
        "colab": {
          "base_uri": "https://localhost:8080/"
        },
        "id": "Lny67X2S8Fwd",
        "outputId": "37f3bffe-6a6b-45b4-e66f-c2f6621936b5"
      },
      "outputs": [
        {
          "output_type": "stream",
          "name": "stdout",
          "text": [
            "Requirement already satisfied: pulp in /usr/local/lib/python3.10/dist-packages (2.7.0)\n"
          ]
        }
      ],
      "source": [
        "!pip install pulp\n",
        "import pulp"
      ]
    },
    {
      "cell_type": "markdown",
      "metadata": {
        "id": "L-mqCbrA8Fwg"
      },
      "source": [
        "## Section"
      ]
    },
    {
      "cell_type": "markdown",
      "metadata": {
        "id": "LQ86wAyz8Fwh"
      },
      "source": [
        "\n",
        "\n",
        "1.  Daiquiri (50 ml white rum, 30 ml cointreau, 30 ml lemon juice, 15 ml sugar syrup, ice) – 6 Euro\n",
        "2.  Kamikaze (40 ml vodka, 30 ml cointreau, 30 ml lemon\n",
        "juice, 10 ml lime syrup, ice) – 5 Euro\n",
        "3. Long Island Ice Tea (20 ml vodka, 20 ml white rum, 20\n",
        "ml gin, 20 ml cointreau, 4 tsp. lemon juice, 4 tsp.\n",
        "orange juice, 1/8 l cola, ice) – 7 Euro\n",
        "\n",
        "\n",
        "*   5 l white rum, 7 l cointreau, 3 l gin and 6 l vodka.\n",
        "*   All other ingredients are unlimited\n",
        "\n",
        "\n",
        "*Which cocktails should the bartender prepare for his\n",
        "maximum profit?*\n",
        "\n",
        "Maximum profit --> Maximizaiton problem\n"
      ]
    },
    {
      "cell_type": "markdown",
      "metadata": {
        "id": "6S092bAM8Fwh"
      },
      "source": [
        "### Subsection\n",
        "\n",
        "Create decision variables:"
      ]
    },
    {
      "cell_type": "code",
      "source": [
        "drinks = ['Daiquiri', 'Kamikaze', 'Long Island Ice Tea']\n",
        "\n",
        "alc = {\n",
        "    'Rum': 5000,\n",
        "    'Cointreau': 7000,\n",
        "    'Gin': 3000,\n",
        "    'Vodka': 6000\n",
        "    }\n",
        "\n",
        "consumption = {\n",
        "    'Daiquiri': {\n",
        "        'Rum': 50,\n",
        "        'Cointreau': 30,\n",
        "        'Gin': 0,\n",
        "        'Vodka': 0\n",
        "    },\n",
        "    'Kamikaze': {\n",
        "        'Cointreau': 30,\n",
        "        'Vodka': 40,\n",
        "        'Gin': 0,\n",
        "        'Rum': 0\n",
        "    },\n",
        "    'Long Island Ice Tea': {\n",
        "        'Rum': 20,\n",
        "        'Cointreau': 20,\n",
        "        'Gin': 20,\n",
        "        'Vodka': 20\n",
        "    }\n",
        "    }\n",
        "\n",
        "prices = {\n",
        "    'Daiquiri': 6,\n",
        "    'Kamikaze': 5,\n",
        "    'Long Island Ice Tea': 7\n",
        "    }\n",
        "\n",
        "# Define problem\n",
        "prob = pulp.LpProblem(name='Bartender', sense=pulp.LpMaximize)\n",
        "\n",
        "prob"
      ],
      "metadata": {
        "id": "GHvPiT3I_x31",
        "outputId": "2f54f5c2-a01c-4759-bd76-698d5e0a2568",
        "colab": {
          "base_uri": "https://localhost:8080/"
        }
      },
      "execution_count": 2,
      "outputs": [
        {
          "output_type": "execute_result",
          "data": {
            "text/plain": [
              "Bartender:\n",
              "MAXIMIZE\n",
              "None\n",
              "VARIABLES"
            ]
          },
          "metadata": {},
          "execution_count": 2
        }
      ]
    },
    {
      "cell_type": "code",
      "source": [
        "# Define decision variables\n",
        "\n",
        "x = pulp.LpVariable.dicts(name='Drinks', indices=drinks, lowBound=0, upBound=None)\n",
        "\n",
        "# Define objective function\n",
        "\n",
        "prob += pulp.lpSum([x[d]*prices[d] for d in drinks])\n",
        "\n",
        "prob"
      ],
      "metadata": {
        "id": "f1s5itOzENqi",
        "outputId": "b008c97e-d969-4241-c4d3-68806977415c",
        "colab": {
          "base_uri": "https://localhost:8080/"
        }
      },
      "execution_count": 3,
      "outputs": [
        {
          "output_type": "execute_result",
          "data": {
            "text/plain": [
              "Bartender:\n",
              "MAXIMIZE\n",
              "6*Drinks_Daiquiri + 5*Drinks_Kamikaze + 7*Drinks_Long_Island_Ice_Tea + 0\n",
              "VARIABLES\n",
              "Drinks_Daiquiri Continuous\n",
              "Drinks_Kamikaze Continuous\n",
              "Drinks_Long_Island_Ice_Tea Continuous"
            ]
          },
          "metadata": {},
          "execution_count": 3
        }
      ]
    },
    {
      "cell_type": "code",
      "source": [
        "# Define constraints\n",
        "for a in alc:\n",
        "  prob += pulp.lpSum([x[d]*consumption[d][a] for d in drinks]) <= alc[a]\n",
        "\n",
        "prob"
      ],
      "metadata": {
        "id": "GdknvTIGFRyE",
        "outputId": "64e849c8-a396-4672-9319-bdb792bdafc7",
        "colab": {
          "base_uri": "https://localhost:8080/"
        }
      },
      "execution_count": 6,
      "outputs": [
        {
          "output_type": "execute_result",
          "data": {
            "text/plain": [
              "Bartender:\n",
              "MAXIMIZE\n",
              "6*Drinks_Daiquiri + 5*Drinks_Kamikaze + 7*Drinks_Long_Island_Ice_Tea + 0\n",
              "SUBJECT TO\n",
              "_C1: 50 Drinks_Daiquiri + 20 Drinks_Long_Island_Ice_Tea <= 5000\n",
              "\n",
              "_C2: 30 Drinks_Daiquiri + 30 Drinks_Kamikaze + 20 Drinks_Long_Island_Ice_Tea\n",
              " <= 7000\n",
              "\n",
              "_C3: 20 Drinks_Long_Island_Ice_Tea <= 3000\n",
              "\n",
              "_C4: 40 Drinks_Kamikaze + 20 Drinks_Long_Island_Ice_Tea <= 6000\n",
              "\n",
              "VARIABLES\n",
              "Drinks_Daiquiri Continuous\n",
              "Drinks_Kamikaze Continuous\n",
              "Drinks_Long_Island_Ice_Tea Continuous"
            ]
          },
          "metadata": {},
          "execution_count": 6
        }
      ]
    },
    {
      "cell_type": "markdown",
      "metadata": {
        "cell_style": "center",
        "id": "LutpCWlL8Fwi"
      },
      "source": [
        "#### Solve problem\n"
      ]
    },
    {
      "cell_type": "code",
      "execution_count": 10,
      "metadata": {
        "cell_style": "center",
        "colab": {
          "base_uri": "https://localhost:8080/"
        },
        "id": "_PiTIszN8Fwj",
        "outputId": "294c7afb-acf3-4f8d-8dca-7431b3e14bc4"
      },
      "outputs": [
        {
          "output_type": "stream",
          "name": "stdout",
          "text": [
            "Drinks_Daiquiri: 40.0\n",
            "Drinks_Kamikaze: 75.0\n",
            "Drinks_Long_Island_Ice_Tea: 150.0\n",
            "Optimal profit: 1665.0\n"
          ]
        }
      ],
      "source": [
        "prob.solve()\n",
        "for d in drinks:\n",
        "  print(f'{x[d]}: {x[d].varValue}')\n",
        "\n",
        "print(f'Optimal profit: {prob.objective.value()}')"
      ]
    },
    {
      "cell_type": "code",
      "source": [],
      "metadata": {
        "id": "Z0P0kVSuLoGC",
        "outputId": "89097a29-48e4-491c-fa22-47cbb0502a10",
        "colab": {
          "base_uri": "https://localhost:8080/"
        }
      },
      "execution_count": 14,
      "outputs": [
        {
          "output_type": "stream",
          "name": "stdout",
          "text": [
            "1\n"
          ]
        }
      ]
    }
  ],
  "metadata": {
    "celltoolbar": "Slideshow",
    "kernelspec": {
      "display_name": "Python 3",
      "language": "python",
      "name": "python3"
    },
    "language_info": {
      "codemirror_mode": {
        "name": "ipython",
        "version": 3
      },
      "file_extension": ".py",
      "mimetype": "text/x-python",
      "name": "python",
      "nbconvert_exporter": "python",
      "pygments_lexer": "ipython3",
      "version": "3.8.3"
    },
    "rise": {
      "enable_chalkboard": false,
      "overlay": "<div class='background'></div><div class='header'>WS 19/20</br>DSS</div><div class='logo'><img src='images/unilogo.png'></div><div class='bar'></div>",
      "scroll": true,
      "slideNumber": "h.v"
    },
    "toc": {
      "base_numbering": 1,
      "nav_menu": {},
      "number_sections": true,
      "sideBar": true,
      "skip_h1_title": true,
      "title_cell": "Table of Contents",
      "title_sidebar": "Contents",
      "toc_cell": true,
      "toc_position": {},
      "toc_section_display": true,
      "toc_window_display": false
    },
    "colab": {
      "provenance": []
    }
  },
  "nbformat": 4,
  "nbformat_minor": 0
}