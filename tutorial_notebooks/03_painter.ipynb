{
  "cells": [
    {
      "cell_type": "markdown",
      "metadata": {
        "cell_style": "center",
        "id": "a_fEYgDPZcXL"
      },
      "source": [
        "<div class='bar_title'></div>\n",
        "\n",
        "*Decision Support Systems*\n",
        "\n",
        "# Headline\n",
        "\n",
        "your name <br>"
      ]
    },
    {
      "cell_type": "code",
      "execution_count": 1,
      "metadata": {
        "id": "xtbD5bYUZcXX",
        "outputId": "70a01c0f-a11c-4ca4-8dc8-aaba7e49b1e1",
        "colab": {
          "base_uri": "https://localhost:8080/"
        }
      },
      "outputs": [
        {
          "output_type": "stream",
          "name": "stdout",
          "text": [
            "Collecting pulp\n",
            "  Downloading PuLP-2.7.0-py3-none-any.whl (14.3 MB)\n",
            "\u001b[2K     \u001b[90m━━━━━━━━━━━━━━━━━━━━━━━━━━━━━━━━━━━━━━━━\u001b[0m \u001b[32m14.3/14.3 MB\u001b[0m \u001b[31m35.7 MB/s\u001b[0m eta \u001b[36m0:00:00\u001b[0m\n",
            "\u001b[?25hInstalling collected packages: pulp\n",
            "Successfully installed pulp-2.7.0\n"
          ]
        }
      ],
      "source": [
        "!pip install pulp\n",
        "import pulp"
      ]
    },
    {
      "cell_type": "markdown",
      "metadata": {
        "id": "4WPTh_k6ZcXd"
      },
      "source": [
        "## Section"
      ]
    },
    {
      "cell_type": "markdown",
      "metadata": {
        "id": "Bmcg0UkUZcXe"
      },
      "source": [
        "text"
      ]
    },
    {
      "cell_type": "markdown",
      "metadata": {
        "id": "TIwVopBHZcXf"
      },
      "source": [
        "### Subsection\n",
        "\n",
        "text"
      ]
    },
    {
      "cell_type": "markdown",
      "metadata": {
        "cell_style": "center",
        "id": "S9K_YUn4ZcXf"
      },
      "source": [
        "#### Subsubsection\n",
        "\n",
        "text"
      ]
    },
    {
      "cell_type": "code",
      "execution_count": 5,
      "metadata": {
        "cell_style": "center",
        "id": "MH9PQWlKZcXg",
        "colab": {
          "base_uri": "https://localhost:8080/"
        },
        "outputId": "92c9d026-c39e-4cb1-fd0e-0eb21111a712"
      },
      "outputs": [
        {
          "output_type": "execute_result",
          "data": {
            "text/plain": [
              "{'A': Paint_A, 'B': Paint_B}"
            ]
          },
          "metadata": {},
          "execution_count": 5
        }
      ],
      "source": [
        "paints = ['A', 'B']\n",
        "\n",
        "consumption = {\n",
        "    'Labor': {\n",
        "        'A': 0.2,\n",
        "        'B': 0.4\n",
        "    },\n",
        "    'Water': {\n",
        "        'A': 0.2,\n",
        "        'B': 0.5\n",
        "    },\n",
        "    'Electricity': {\n",
        "        'A': 0.2,\n",
        "        'B': 0.2\n",
        "    },\n",
        "    'Chemicals': {\n",
        "        'A': 0.4,\n",
        "        'B': 0.2\n",
        "    }\n",
        "}\n",
        "\n",
        "capacity = {\n",
        "    'Labor': 10,\n",
        "    'Chemicals': 4,\n",
        "    'Electricity': -1,\n",
        "    'Water': -1\n",
        "}\n",
        "\n",
        "costs = {\n",
        "    'Labor': 15,\n",
        "    'Water': 5,\n",
        "    'Electricity': 12,\n",
        "    'Chemicals': 50\n",
        "}\n",
        "\n",
        "\n",
        "prob = pulp.LpProblem(name='Painter\\'s nightmare', sense=pulp.LpMaximize)\n",
        "\n",
        "x = pulp.LpVariable.dicts(\n",
        "    name='Paint',\n",
        "    indices=paints,\n",
        "    lowBound=0,\n",
        "    upBound=None)\n",
        "x"
      ]
    },
    {
      "cell_type": "code",
      "source": [
        "z = pulp.LpVariable('Min Revenue', lowBound=0, upBound=None)\n",
        "\n",
        "prob += z - 26.4*x['A'] - 20.9*x['B']\n",
        "\n",
        "prob"
      ],
      "metadata": {
        "colab": {
          "base_uri": "https://localhost:8080/"
        },
        "id": "V7mmnpYbd4_4",
        "outputId": "cc3d2a4b-59cb-4db3-a04a-6978023a08ef"
      },
      "execution_count": 6,
      "outputs": [
        {
          "output_type": "execute_result",
          "data": {
            "text/plain": [
              "Painter's_nightmare:\n",
              "MAXIMIZE\n",
              "1*Min_Revenue + -26.4*Paint_A + -20.9*Paint_B + 0.0\n",
              "VARIABLES\n",
              "Min_Revenue Continuous\n",
              "Paint_A Continuous\n",
              "Paint_B Continuous"
            ]
          },
          "metadata": {},
          "execution_count": 6
        }
      ]
    },
    {
      "cell_type": "code",
      "source": [
        "for i in capacity.keys():\n",
        "  if capacity[i] > 0:\n",
        "    prob += pulp.lpSum([x[p]*consumption[i][p] for p in paints]) <= capacity[i]\n",
        "\n",
        "prob += 28*x['A'] + 25*x['B'] >= z\n",
        "prob += 31*x['A'] + 24*x['B'] >= z\n",
        "prob += 34*x['A'] + 22*x['B'] >= z\n",
        "\n",
        "prob"
      ],
      "metadata": {
        "id": "XLJMTlYmH9hJ",
        "outputId": "b0ee04cb-e003-43ef-b51e-7e833ed53fb9",
        "colab": {
          "base_uri": "https://localhost:8080/"
        }
      },
      "execution_count": 7,
      "outputs": [
        {
          "output_type": "execute_result",
          "data": {
            "text/plain": [
              "Painter's_nightmare:\n",
              "MAXIMIZE\n",
              "1*Min_Revenue + -26.4*Paint_A + -20.9*Paint_B + 0.0\n",
              "SUBJECT TO\n",
              "_C1: 0.2 Paint_A + 0.4 Paint_B <= 10\n",
              "\n",
              "_C2: 0.4 Paint_A + 0.2 Paint_B <= 4\n",
              "\n",
              "_C3: - Min_Revenue + 28 Paint_A + 25 Paint_B >= 0\n",
              "\n",
              "_C4: - Min_Revenue + 31 Paint_A + 24 Paint_B >= 0\n",
              "\n",
              "_C5: - Min_Revenue + 34 Paint_A + 22 Paint_B >= 0\n",
              "\n",
              "VARIABLES\n",
              "Min_Revenue Continuous\n",
              "Paint_A Continuous\n",
              "Paint_B Continuous"
            ]
          },
          "metadata": {},
          "execution_count": 7
        }
      ]
    },
    {
      "cell_type": "code",
      "source": [
        "# Solve problem\n",
        "\n",
        "prob.solve()\n",
        "\n",
        "print(f'Minimum revenue: {z.varValue}')\n",
        "print(f'Profit: {prob.objective.value()}')\n",
        "for p in paints:\n",
        "  print(f'{x[p]}: {x[p].varValue}')\n"
      ],
      "metadata": {
        "id": "n0S1D6XzKrfQ",
        "outputId": "020b994e-1d8b-41da-d042-d660c8b3afb3",
        "colab": {
          "base_uri": "https://localhost:8080/"
        }
      },
      "execution_count": 9,
      "outputs": [
        {
          "output_type": "stream",
          "name": "stdout",
          "text": [
            "Minimum revenue: 390.0\n",
            "Profit: 49.0\n",
            "Paint_A: 5.0\n",
            "Paint_B: 10.0\n"
          ]
        }
      ]
    }
  ],
  "metadata": {
    "celltoolbar": "Slideshow",
    "kernelspec": {
      "display_name": "Python 3",
      "language": "python",
      "name": "python3"
    },
    "language_info": {
      "codemirror_mode": {
        "name": "ipython",
        "version": 3
      },
      "file_extension": ".py",
      "mimetype": "text/x-python",
      "name": "python",
      "nbconvert_exporter": "python",
      "pygments_lexer": "ipython3",
      "version": "3.8.3"
    },
    "rise": {
      "enable_chalkboard": false,
      "overlay": "<div class='background'></div><div class='header'>WS 19/20</br>DSS</div><div class='logo'><img src='images/unilogo.png'></div><div class='bar'></div>",
      "scroll": true,
      "slideNumber": "h.v"
    },
    "toc": {
      "base_numbering": 1,
      "nav_menu": {},
      "number_sections": true,
      "sideBar": true,
      "skip_h1_title": true,
      "title_cell": "Table of Contents",
      "title_sidebar": "Contents",
      "toc_cell": true,
      "toc_position": {},
      "toc_section_display": true,
      "toc_window_display": false
    },
    "colab": {
      "provenance": []
    }
  },
  "nbformat": 4,
  "nbformat_minor": 0
}